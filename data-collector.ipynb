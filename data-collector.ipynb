{
 "cells": [
  {
   "cell_type": "code",
   "execution_count": 1,
   "metadata": {},
   "outputs": [],
   "source": [
    "# Must install 'xlrd' for pandas: ```pip install xlrd```\n",
    "import os\n",
    "import pandas as pd\n",
    "import re\n",
    "import requests"
   ]
  },
  {
   "cell_type": "code",
   "execution_count": 17,
   "metadata": {},
   "outputs": [],
   "source": [
    "df = pd.read_excel('response.xlsx')\n",
    "df['id'] = df['Thư điện tử'].str[:8] ## Cột id: Lấy mã SV làm id\n",
    "df['folder'] = df.agg('{0[id]}_{0[Họ và đệm]} {0[Tên]}'.format, axis=1) # Cột Folder: theo cú pháp MSV_Họ và tên\n",
    "df = df.sort_values(by=['Được hoàn thành'], ascending = False) # Sort bảng theo Thời gian thực hiện = \"Được hoàn thành\" - \"Bắt đầu vào lúc\""
   ]
  },
  {
   "cell_type": "code",
   "execution_count": 70,
   "metadata": {},
   "outputs": [],
   "source": [
    "def extract_id(response):\n",
    "    if type(response) != str:\n",
    "        return None\n",
    "    pos = response.find('open?id=')\n",
    "    if pos == -1:\n",
    "        pos = response.find('/file/d/')\n",
    "    if pos != -1:\n",
    "        pos += 8\n",
    "        response = response[pos:]\n",
    "        result = re.search(r\"[\\w-]+\", response)\n",
    "        return result.group(0)\n",
    "    else:\n",
    "        return None\n",
    "\n",
    "def download_file_from_google_drive(id, destination, replace=False):\n",
    "    if not replace and os.path.isfile(destination):\n",
    "        print(\"Destination file\", destination, \"exists, download aborted\")\n",
    "        return\n",
    "    URL = \"https://docs.google.com/uc?export=download\"\n",
    "\n",
    "    session = requests.Session()\n",
    "\n",
    "    response = session.get(URL, params = { 'id' : id }, stream = True)\n",
    "    token = get_confirm_token(response)\n",
    "\n",
    "    if token:\n",
    "        params = { 'id' : id, 'confirm' : token }\n",
    "        response = session.get(URL, params = params, stream = True)\n",
    "\n",
    "    save_response_content(response, destination)    \n",
    "\n",
    "def get_confirm_token(response):\n",
    "    for key, value in response.cookies.items():\n",
    "        if key.startswith('download_warning'):\n",
    "            return value\n",
    "\n",
    "    return None\n",
    "\n",
    "def save_response_content(response, destination):\n",
    "    CHUNK_SIZE = 32768\n",
    "\n",
    "    with open(destination, \"wb\") as f:\n",
    "        for chunk in response.iter_content(CHUNK_SIZE):\n",
    "            if chunk: # filter out keep-alive new chunks\n",
    "                f.write(chunk)\n",
    "\n",
    "def download_response(row):\n",
    "    folder = row['folder']\n",
    "    response = row['Response 1']    \n",
    "    data_file_id = extract_id(response) # Lấy id của link google drive\n",
    "    if data_file_id is not None:\n",
    "        destination_dir = os.path.join('assignment1', folder) # Tạo path folder\n",
    "        destination = os.path.join(destination_dir, 'data.zip')\n",
    "        os.makedirs(destination_dir, exist_ok=True) # Tạo folder\n",
    "        print(\"Downloading\", data_file_id, '...')\n",
    "        download_file_from_google_drive(data_file_id, destination)\n",
    "        print(\"Done.\")\n",
    "    else:\n",
    "        print(\"Cannot find drive file ID, check response\")\n",
    "\n",
    "def download_by_student_id(student_id):\n",
    "    for r in df.iterrows():\n",
    "        r = r[1] # r gồm ({id}, {data}) - kiểu dữ liệu: Tuple\n",
    "        if r['id'] == student_id:\n",
    "            print(r['folder'], r['Được hoàn thành'], r['Response 1'])\n",
    "            download_response(r)\n",
    "            print('---------------')"
   ]
  },
  {
   "cell_type": "code",
   "execution_count": 72,
   "metadata": {},
   "outputs": [
    {
     "name": "stdout",
     "output_type": "stream",
     "text": [
      "17020173_Dương Thị Thúy Hằng 3 Tháng tư 2020  6:16 PM https://github.com/ConstantSun/Speech_Processing/blob/master/bt_1_light_version.py\n",
      "\n",
      "https://drive.google.com/open?id=1qxRHdVe9gFjgIN-cKA0OiR67BQs3L2cq\n",
      "Downloading 1qxRHdVe9gFjgIN-cKA0OiR67BQs3L2cq ...\n",
      "Done.\n",
      "---------------\n",
      "17020173_Dương Thị Thúy Hằng 25 Tháng ba 2020  9:29 AM https://github.com/ConstantSun/Speech_Processing/blob/master/bt_1_light_version.py\n",
      "\n",
      "https://drive.google.com/open?id=1_2AcxJq9igcgHooRGxdjji2bdlBaat0N\n",
      "Downloading 1_2AcxJq9igcgHooRGxdjji2bdlBaat0N ...\n",
      "Destination file assignment1/17020173_Dương Thị Thúy Hằng/data.zip exists, download aborted\n",
      "Done.\n",
      "---------------\n",
      "17020173_Dương Thị Thúy Hằng 22 Tháng ba 2020  3:26 AM https://github.com/ConstantSun/Speech_Processing/blob/master/bt_1_light_version.py\n",
      "\n",
      "https://drive.google.com/open?id=1_2AcxJq9igcgHooRGxdjji2bdlBaat0N\n",
      "Downloading 1_2AcxJq9igcgHooRGxdjji2bdlBaat0N ...\n",
      "Destination file assignment1/17020173_Dương Thị Thúy Hằng/data.zip exists, download aborted\n",
      "Done.\n",
      "---------------\n",
      "17020173_Dương Thị Thúy Hằng 22 Tháng ba 2020  3:14 AM https://github.com/ConstantSun/Speech_Processing/blob/master/bt_1_light_version.py\n",
      "\n",
      "https://drive.google.com/open?id=1_2AcxJq9igcgHooRGxdjji2bdlBaat0N\n",
      "Downloading 1_2AcxJq9igcgHooRGxdjji2bdlBaat0N ...\n",
      "Destination file assignment1/17020173_Dương Thị Thúy Hằng/data.zip exists, download aborted\n",
      "Done.\n",
      "---------------\n",
      "17020173_Dương Thị Thúy Hằng 22 Tháng ba 2020  1:05 PM https://github.com/ConstantSun/Speech_Processing/blob/master/bt_1_light_version.py\n",
      "\n",
      "https://drive.google.com/open?id=1_2AcxJq9igcgHooRGxdjji2bdlBaat0N\n",
      "Downloading 1_2AcxJq9igcgHooRGxdjji2bdlBaat0N ...\n",
      "Destination file assignment1/17020173_Dương Thị Thúy Hằng/data.zip exists, download aborted\n",
      "Done.\n",
      "---------------\n"
     ]
    }
   ],
   "source": [
    "download_by_student_id('17020173')"
   ]
  },
  {
   "cell_type": "code",
   "execution_count": null,
   "metadata": {},
   "outputs": [],
   "source": []
  }
 ],
 "metadata": {
  "kernelspec": {
   "display_name": "Python 3",
   "language": "python",
   "name": "python3"
  },
  "language_info": {
   "codemirror_mode": {
    "name": "ipython",
    "version": 3
   },
   "file_extension": ".py",
   "mimetype": "text/x-python",
   "name": "python",
   "nbconvert_exporter": "python",
   "pygments_lexer": "ipython3",
   "version": "3.7.6"
  }
 },
 "nbformat": 4,
 "nbformat_minor": 4
}
