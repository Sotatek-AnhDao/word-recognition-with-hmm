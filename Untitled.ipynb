{
 "cells": [
  {
   "cell_type": "code",
   "execution_count": 2,
   "metadata": {},
   "outputs": [
    {
     "name": "stdout",
     "output_type": "stream",
     "text": [
      "Collecting hmmlearn\n",
      "  Downloading hmmlearn-0.2.3-cp37-cp37m-macosx_10_13_x86_64.whl (120 kB)\n",
      "\u001b[K     |████████████████████████████████| 120 kB 598 kB/s eta 0:00:01\n",
      "\u001b[?25hRequirement already satisfied: scikit-learn>=0.16 in /Users/lymin00/anaconda3/envs/voice/lib/python3.7/site-packages (from hmmlearn) (0.22.2.post1)\n",
      "Requirement already satisfied: scipy>=0.15 in /Users/lymin00/anaconda3/envs/voice/lib/python3.7/site-packages (from hmmlearn) (1.1.0)\n",
      "Requirement already satisfied: numpy>=1.10 in /Users/lymin00/anaconda3/envs/voice/lib/python3.7/site-packages (from hmmlearn) (1.15.4)\n",
      "Requirement already satisfied: joblib>=0.11 in /Users/lymin00/anaconda3/envs/voice/lib/python3.7/site-packages (from scikit-learn>=0.16->hmmlearn) (0.14.1)\n",
      "Installing collected packages: hmmlearn\n",
      "Successfully installed hmmlearn-0.2.3\n"
     ]
    }
   ],
   "source": [
    "!pip install hmmlearn"
   ]
  },
  {
   "cell_type": "code",
   "execution_count": 1,
   "metadata": {},
   "outputs": [],
   "source": [
    "import librosa\n",
    "import numpy as np\n",
    "import os\n",
    "import math\n",
    "from sklearn.cluster import KMeans\n",
    "import pickle as pk\n",
    "import hmmlearn.hmm"
   ]
  },
  {
   "cell_type": "code",
   "execution_count": 2,
   "metadata": {},
   "outputs": [],
   "source": [
    "def get_mfcc(file_path):\n",
    "    y, sr = librosa.load(file_path) # read .wav file\n",
    "    hop_length = math.floor(sr*0.010) # 10ms hop\n",
    "    win_length = math.floor(sr*0.025) # 25ms frame\n",
    "    # mfcc is 12 x T matrix\n",
    "    mfcc = librosa.feature.mfcc(\n",
    "        y, sr, n_mfcc=12, n_fft=1024,\n",
    "        hop_length=hop_length, win_length=win_length)\n",
    "    # substract mean from mfcc --> normalize mfcc\n",
    "    mfcc = mfcc - np.mean(mfcc, axis=1).reshape((-1,1)) \n",
    "    # delta feature 1st order and 2nd order\n",
    "    delta1 = librosa.feature.delta(mfcc, order=1)\n",
    "    delta2 = librosa.feature.delta(mfcc, order=2)\n",
    "    # X is 36 x T\n",
    "    X = np.concatenate([mfcc, delta1, delta2], axis=0) # O^r\n",
    "    # return T x 36 (transpose of X)\n",
    "    return X.T # hmmlearn use T x N matrix\n"
   ]
  },
  {
   "cell_type": "code",
   "execution_count": 3,
   "metadata": {},
   "outputs": [],
   "source": [
    "def get_class_data(data_dir):\n",
    "    files = os.listdir(data_dir)\n",
    "#     print(files)\n",
    "    mfcc = [get_mfcc(os.path.join(data_dir,f)) for f in files if f.endswith(\".wav\")]\n",
    "    return mfcc\n",
    "\n",
    "def clustering(X, n_clusters=10):\n",
    "    kmeans = KMeans(n_clusters=n_clusters, n_init=50, random_state=0, verbose=0)\n",
    "    kmeans.fit(X)\n",
    "    print(\"centers\", kmeans.cluster_centers_.shape)\n",
    "    return kmeans "
   ]
  },
  {
   "cell_type": "code",
   "execution_count": 8,
   "metadata": {},
   "outputs": [
    {
     "name": "stderr",
     "output_type": "stream",
     "text": [
      "/Users/lymin00/anaconda3/envs/voice/lib/python3.7/site-packages/scipy/signal/_arraytools.py:45: FutureWarning: Using a non-tuple sequence for multidimensional indexing is deprecated; use `arr[tuple(seq)]` instead of `arr[seq]`. In the future this will be interpreted as an array index, `arr[np.array(seq)]`, which will result either in an error or a different result.\n",
      "  b = a[a_slice]\n"
     ]
    },
    {
     "name": "stdout",
     "output_type": "stream",
     "text": [
      "vectors (13768, 36)\n",
      "centers (10, 36)\n",
      "centers (10, 36)\n"
     ]
    }
   ],
   "source": [
    "class_names = [\"toi\", \"dich\", \"nguoi\", \"benh_nhan\", \"theo\", \"test_toi\", \"test_nguoi\", \"test_dich\", \"test_theo\", \"test_benh_nhan\"]\n",
    "dataset = {}\n",
    "train_dataset = {}\n",
    "models = {}\n",
    "original_dataset = {}\n",
    "for cname in class_names:\n",
    "    dataset[cname] = get_class_data(os.path.join(\"train\", cname))\n",
    "    if cname[:4] != \"test\":\n",
    "#print(f\"Load {cname} dataset to train\")\n",
    "        train_dataset[cname] = get_class_data(os.path.join(\"train\", cname))\n",
    "\n",
    "#   Get all vectors in the datasets\n",
    "#   all_vectors = np.concatenate([np.concatenate(v, axis=0) for k, v in dataset.items()], axis=0)\n",
    "#   print(\"vectors\", all_vectors.shape)\n",
    "#   # Run K-Means algorithm to get clusters\n",
    "#   kmeans = clustering(all_vectors)\n",
    "#   print(\"centers\", kmeans.cluster_centers_.shape)\n",
    "\n",
    "# Get all vectors in the datasets\n",
    "all_train_vectors = np.concatenate([np.concatenate(v, axis=0) for k, v in train_dataset.items()], axis=0)\n",
    "print(\"vectors\", all_train_vectors.shape)\n",
    "# Run K-Means algorithm to get clusters\n",
    "kmeans = clustering(all_train_vectors)\n",
    "print(\"centers\", kmeans.cluster_centers_.shape)\n",
    "\n",
    "for cname in class_names:\n",
    "    class_vectors = dataset[cname]\n",
    "    # convert all vectors to the cluster index\n",
    "    # dataset['cname'] = [O^1, ... O^R]\n",
    "    # O^r = (c1, c2, ... ct, ... cT)\n",
    "    # O^r size T x 1\n",
    "    dataset[cname] = list([kmeans.predict(v).reshape(-1,1) for v in dataset[cname]])"
   ]
  },
  {
   "cell_type": "code",
   "execution_count": 9,
   "metadata": {},
   "outputs": [],
   "source": [
    "lable_names = [\"toi\", \"dich\", \"nguoi\", \"benh_nhan\", \"theo\"]\n",
    "for cname in lable_names:\n",
    "    with open(os.path.join(\"Models\", cname + \".pkl\"), \"rb\") as file: models[cname] = pk.load(file)"
   ]
  },
  {
   "cell_type": "code",
   "execution_count": 35,
   "metadata": {},
   "outputs": [
    {
     "name": "stdout",
     "output_type": "stream",
     "text": [
      "training class toi\n",
      "(2230, 1) [31, 41, 28, 23, 29, 17, 43, 39, 19, 20, 37, 36, 22, 26, 40, 28, 21, 32, 23, 19, 31, 38, 20, 33, 39, 23, 51, 53, 38, 27, 31, 32, 22, 45, 32, 55, 32, 42, 67, 18, 69, 53, 24, 46, 52, 24, 26, 40, 31, 35, 18, 12, 47, 21, 17, 27, 30, 33, 25, 20, 23, 18, 24, 38, 48, 26, 17, 21, 62] 69\n"
     ]
    },
    {
     "name": "stderr",
     "output_type": "stream",
     "text": [
      "         1       -5086.3350             +nan\n",
      "         2       -3963.0501       +1123.2849\n",
      "         3       -3399.2908        +563.7593\n",
      "         4       -3272.8954        +126.3954\n",
      "         5       -3207.1713         +65.7241\n",
      "         6       -3166.6254         +40.5459\n",
      "         7       -3112.4875         +54.1379\n",
      "         8       -3018.8140         +93.6735\n",
      "         9       -2896.4917        +122.3224\n",
      "        10       -2786.0245        +110.4672\n"
     ]
    }
   ],
   "source": [
    "# toi |t|~|o|~|i|\n",
    "# original_dataset['toi'] = dataset['toi'].copy()\n",
    "cname = 'toi'\n",
    "# # convert all vectors to the cluster index\n",
    "# dataset[cname] = list([kmeans.predict(v).reshape(-1,1) for v in original_dataset[cname]])\n",
    "\n",
    "hmm = hmmlearn.hmm.MultinomialHMM(\n",
    "    n_components=9, random_state=0, n_iter=1000, verbose=True,\n",
    "    params='te',\n",
    "    init_params='e'\n",
    ")\n",
    "hmm = hmmlearn.hmm.MultinomialHMM(\n",
    "  n_components=9, init_params='e', params='ste', verbose=True\n",
    ") \n",
    "hmm.startprob_ = np.array([0.6, 0.2, 0.2, 0.0, 0.0, 0.0, 0.0, 0.0, 0.0])\n",
    "hmm.transmat_ = np.array([\n",
    "    [0.6, 0.2, 0.2, 0.0, 0.0, 0.0, 0.0, 0.0, 0.0],\n",
    "    [0.0, 0.6, 0.2, 0.2, 0.0, 0.0, 0.0, 0.0, 0.0],\n",
    "    [0.0, 0.0, 0.6, 0.2, 0.2, 0.0, 0.0, 0.0, 0.0],\n",
    "    [0.0, 0.0, 0.0, 0.6, 0.2, 0.2, 0.0, 0.0, 0.0],\n",
    "    [0.0, 0.0, 0.0, 0.0, 0.6, 0.2, 0.2, 0.0, 0.0],\n",
    "    [0.0, 0.0, 0.0, 0.0, 0.0, 0.6, 0.2, 0.2, 0.0],\n",
    "    [0.0, 0.0, 0.0, 0.0, 0.0, 0.0, 0.6, 0.2, 0.2],\n",
    "    [0.0, 0.0, 0.0, 0.0, 0.0, 0.0, 0.0, 0.6, 0.4],\n",
    "    [0.0, 0.0, 0.0, 0.0, 0.0, 0.0, 0.0, 0.0, 1.0]\n",
    "])\n",
    "\n",
    "X = np.concatenate(dataset[cname])\n",
    "lengths = list([len(x) for x in dataset[cname]])\n",
    "print(\"training class\", cname)\n",
    "print(X.shape, lengths, len(lengths))\n",
    "hmm.fit(X, lengths=lengths)\n",
    "models[cname] = hmm\n",
    "with open(os.path.join(\"Models\", cname + \".pkl\"), \"wb\") as file: pk.dump(models[cname], file)"
   ]
  },
  {
   "cell_type": "code",
   "execution_count": 30,
   "metadata": {},
   "outputs": [
    {
     "name": "stdout",
     "output_type": "stream",
     "text": [
      "[[0.73 0.21 0.06 0.   0.   0.   0.   0.   0.  ]\n",
      " [0.   0.89 0.01 0.1  0.   0.   0.   0.   0.  ]\n",
      " [0.   0.   0.81 0.09 0.11 0.   0.   0.   0.  ]\n",
      " [0.   0.   0.   0.38 0.5  0.11 0.   0.   0.  ]\n",
      " [0.   0.   0.   0.   0.48 0.19 0.33 0.   0.  ]\n",
      " [0.   0.   0.   0.   0.   0.82 0.   0.18 0.  ]\n",
      " [0.   0.   0.   0.   0.   0.   0.9  0.01 0.09]\n",
      " [0.   0.   0.   0.   0.   0.   0.   0.91 0.09]\n",
      " [0.   0.   0.   0.   0.   0.   0.   0.   1.  ]]\n"
     ]
    }
   ],
   "source": [
    "np.set_printoptions(precision=2, suppress=True)\n",
    "print(models['toi'].transmat_)"
   ]
  },
  {
   "cell_type": "code",
   "execution_count": null,
   "metadata": {},
   "outputs": [],
   "source": []
  },
  {
   "cell_type": "code",
   "execution_count": null,
   "metadata": {},
   "outputs": [],
   "source": []
  },
  {
   "cell_type": "code",
   "execution_count": null,
   "metadata": {},
   "outputs": [],
   "source": []
  },
  {
   "cell_type": "code",
   "execution_count": 31,
   "metadata": {},
   "outputs": [],
   "source": [
    "# #nguoi |ng|~|uo|~|i|\n",
    "\n",
    "# hmm = hmmlearn.hmm.MultinomialHMM(\n",
    "#   n_components=15, init_params='e', params='ste', verbose=True\n",
    "# )\n",
    "# hmm.startprob_ = np.array([0.7, 0.2, 0.1, 0.0, 0.0, 0.0, 0.0, 0.0, 0.0, 0.0, 0.0, 0.0, 0.0, 0.0, 0.0])\n",
    "# hmm.transmat_ = np.array([\n",
    "#     [0.5, 0.3, 0.2, 0.0, 0.0, 0.0, 0.0, 0.0, 0.0, 0.0, 0.0, 0.0, 0.0, 0.0, 0.0],\n",
    "#     [0.0, 0.5, 0.3, 0.2, 0.0, 0.0, 0.0, 0.0, 0.0, 0.0, 0.0, 0.0, 0.0, 0.0, 0.0],\n",
    "#     [0.0, 0.0, 0.5, 0.3, 0.2, 0.0, 0.0, 0.0, 0.0, 0.0, 0.0, 0.0, 0.0, 0.0, 0.0],\n",
    "#     [0.0, 0.0, 0.0, 0.5, 0.3, 0.2, 0.0, 0.0, 0.0, 0.0, 0.0, 0.0, 0.0, 0.0, 0.0],\n",
    "#     [0.0, 0.0, 0.0, 0.0, 0.5, 0.3, 0.2, 0.0, 0.0, 0.0, 0.0, 0.0, 0.0, 0.0, 0.0],\n",
    "#     [0.0, 0.0, 0.0, 0.0, 0.0, 0.5, 0.3, 0.2, 0.0, 0.0, 0.0, 0.0, 0.0, 0.0, 0.0],\n",
    "#     [0.0, 0.0, 0.0, 0.0, 0.0, 0.0, 0.5, 0.3, 0.2, 0.0, 0.0, 0.0, 0.0, 0.0, 0.0],\n",
    "#     [0.0, 0.0, 0.0, 0.0, 0.0, 0.0, 0.0, 0.5, 0.3, 0.2, 0.0, 0.0, 0.0, 0.0, 0.0],\n",
    "#     [0.0, 0.0, 0.0, 0.0, 0.0, 0.0, 0.0, 0.0, 0.5, 0.3, 0.2, 0.0, 0.0, 0.0, 0.0],\n",
    "#     [0.0, 0.0, 0.0, 0.0, 0.0, 0.0, 0.0, 0.0, 0.0, 0.5, 0.3, 0.2, 0.0, 0.0, 0.0],\n",
    "#     [0.0, 0.0, 0.0, 0.0, 0.0, 0.0, 0.0, 0.0, 0.0, 0.0, 0.5, 0.3, 0.2, 0.0, 0.0],    \n",
    "#     [0.0, 0.0, 0.0, 0.0, 0.0, 0.0, 0.0, 0.0, 0.0, 0.0, 0.0, 0.5, 0.3, 0.2, 0.0],    \n",
    "#     [0.0, 0.0, 0.0, 0.0, 0.0, 0.0, 0.0, 0.0, 0.0, 0.0, 0.0, 0.0, 0.5, 0.3, 0.2],    \n",
    "#     [0.0, 0.0, 0.0, 0.0, 0.0, 0.0, 0.0, 0.0, 0.0, 0.0, 0.0, 0.0, 0.0, 0.5, 0.5],\n",
    "#     [0.0, 0.0, 0.0, 0.0, 0.0, 0.0, 0.0, 0.0, 0.0, 0.0, 0.0, 0.0, 0.0, 0.0, 1.0]\n",
    "#   ])"
   ]
  },
  {
   "cell_type": "code",
   "execution_count": 32,
   "metadata": {},
   "outputs": [],
   "source": [
    "# # dich |d|~|i|~|ch|\n",
    "\n",
    "# hmm = hmmlearn.hmm.MultinomialHMM(\n",
    "#   n_components=9, init_params='e', params='ste', verbose=True\n",
    "# )\n",
    "# hmm.startprob_ = np.array([0.7, 0.2, 0.1, 0.0, 0.0, 0.0, 0.0, 0.0, 0.0])\n",
    "# hmm.transmat_ = np.array([\n",
    "#     [0.5, 0.3, 0.2, 0.0, 0.0, 0.0, 0.0, 0.0, 0.0],\n",
    "#     [0.0, 0.5, 0.3, 0.2, 0.0, 0.0, 0.0, 0.0, 0.0],\n",
    "#     [0.0, 0.0, 0.5, 0.3, 0.2, 0.0, 0.0, 0.0, 0.0],\n",
    "#     [0.0, 0.0, 0.0, 0.5, 0.3, 0.2, 0.0, 0.0, 0.0],\n",
    "#     [0.0, 0.0, 0.0, 0.0, 0.5, 0.3, 0.2, 0.0, 0.0],\n",
    "#     [0.0, 0.0, 0.0, 0.0, 0.0, 0.5, 0.3, 0.2, 0.0],\n",
    "#     [0.0, 0.0, 0.0, 0.0, 0.0, 0.0, 0.5, 0.3, 0.2],\n",
    "#     [0.0, 0.0, 0.0, 0.0, 0.0, 0.0, 0.0, 0.5, 0.5],\n",
    "#     [0.0, 0.0, 0.0, 0.0, 0.0, 0.0, 0.0, 0.0, 1.0]\n",
    "#   ])"
   ]
  },
  {
   "cell_type": "code",
   "execution_count": 36,
   "metadata": {},
   "outputs": [
    {
     "name": "stdout",
     "output_type": "stream",
     "text": [
      "training class theo\n",
      "(2752, 1) [39, 30, 28, 46, 57, 26, 64, 27, 29, 27, 80, 19, 21, 25, 50, 18, 27, 27, 31, 21, 15, 42, 37, 32, 48, 39, 33, 39, 25, 23, 39, 30, 11, 33, 22, 34, 25, 42, 46, 33, 28, 25, 13, 14, 21, 40, 56, 57, 63, 30, 22, 32, 21, 35, 11, 98, 23, 79, 22, 31, 15, 39, 39, 38, 34, 14, 26, 28, 40, 39, 21, 29, 22, 51, 24, 14, 30, 23, 30, 21, 25, 42, 30, 17] 84\n"
     ]
    },
    {
     "name": "stderr",
     "output_type": "stream",
     "text": [
      "         1       -6515.6990             +nan\n",
      "         2       -4759.6492       +1756.0498\n",
      "         3       -3992.7344        +766.9148\n",
      "         4       -3603.8381        +388.8964\n",
      "         5       -3463.5388        +140.2992\n",
      "         6       -3397.8179         +65.7210\n",
      "         7       -3359.0511         +38.7668\n",
      "         8       -3336.5148         +22.5362\n",
      "         9       -3319.5827         +16.9322\n",
      "        10       -3302.6019         +16.9807\n"
     ]
    }
   ],
   "source": [
    "# theo |th|~|e|~|o|\n",
    "cname = \"theo\"\n",
    "\n",
    "hmm = hmmlearn.hmm.MultinomialHMM(\n",
    "  n_components=9, init_params='e', params='ste', verbose=True\n",
    ")\n",
    "hmm.startprob_ = np.array([0.6, 0.2, 0.2, 0.0, 0.0, 0.0, 0.0, 0.0, 0.0])\n",
    "hmm.transmat_ = np.array([\n",
    "    [0.5, 0.3, 0.2, 0.0, 0.0, 0.0, 0.0, 0.0, 0.0],\n",
    "    [0.0, 0.5, 0.3, 0.2, 0.0, 0.0, 0.0, 0.0, 0.0],\n",
    "    [0.0, 0.0, 0.5, 0.3, 0.2, 0.0, 0.0, 0.0, 0.0],\n",
    "    [0.0, 0.0, 0.0, 0.5, 0.3, 0.2, 0.0, 0.0, 0.0],\n",
    "    [0.0, 0.0, 0.0, 0.0, 0.5, 0.3, 0.2, 0.0, 0.0],\n",
    "    [0.0, 0.0, 0.0, 0.0, 0.0, 0.5, 0.3, 0.2, 0.0],\n",
    "    [0.0, 0.0, 0.0, 0.0, 0.0, 0.0, 0.5, 0.3, 0.2],\n",
    "    [0.0, 0.0, 0.0, 0.0, 0.0, 0.0, 0.0, 0.5, 0.5],\n",
    "    [0.0, 0.0, 0.0, 0.0, 0.0, 0.0, 0.0, 0.0, 1.0]\n",
    "  ])\n",
    "\n",
    "X = np.concatenate(dataset[cname])\n",
    "lengths = list([len(x) for x in dataset[cname]])\n",
    "print(\"training class\", cname)\n",
    "print(X.shape, lengths, len(lengths))\n",
    "hmm.fit(X, lengths=lengths)\n",
    "models[cname] = hmm\n",
    "with open(os.path.join(\"Models\", cname + \".pkl\"), \"wb\") as file: pk.dump(models[cname], file)"
   ]
  },
  {
   "cell_type": "code",
   "execution_count": null,
   "metadata": {},
   "outputs": [],
   "source": [
    "# # benh_nhan |b|~|e|~|nh|~|silent|~|nh|~|a|~|n| \n",
    "\n",
    "# hmm = hmmlearn.hmm.MultinomialHMM(\n",
    "#     n_components=21, init_params='e', params='ste', verbose=True\n",
    "# )\n",
    "# hmm.startprob_ = np.array([0.7, 0.2, 0.1, 0.0, 0.0, 0.0, 0.0, 0.0, 0.0, 0.0, 0.0, 0.0, 0.0, 0.0, 0.0, 0.0, 0.0, 0.0, 0.0, 0.0, 0.0])\n",
    "# hmm.transmat_ = np.array([\n",
    "#     [0.5, 0.3, 0.2, 0.0, 0.0, 0.0, 0.0, 0.0, 0.0, 0.0, 0.0, 0.0, 0.0, 0.0, 0.0, 0.0, 0.0, 0.0, 0.0, 0.0, 0.0],\n",
    "#     [0.0, 0.5, 0.3, 0.2, 0.0, 0.0, 0.0, 0.0, 0.0, 0.0, 0.0, 0.0, 0.0, 0.0, 0.0, 0.0, 0.0, 0.0, 0.0, 0.0, 0.0],\n",
    "#     [0.0, 0.0, 0.5, 0.3, 0.2, 0.0, 0.0, 0.0, 0.0, 0.0, 0.0, 0.0, 0.0, 0.0, 0.0, 0.0, 0.0, 0.0, 0.0, 0.0, 0.0],\n",
    "#     [0.0, 0.0, 0.0, 0.5, 0.3, 0.2, 0.0, 0.0, 0.0, 0.0, 0.0, 0.0, 0.0, 0.0, 0.0, 0.0, 0.0, 0.0, 0.0, 0.0, 0.0],\n",
    "#     [0.0, 0.0, 0.0, 0.0, 0.5, 0.3, 0.2, 0.0, 0.0, 0.0, 0.0, 0.0, 0.0, 0.0, 0.0, 0.0, 0.0, 0.0, 0.0, 0.0, 0.0],\n",
    "#     [0.0, 0.0, 0.0, 0.0, 0.0, 0.5, 0.3, 0.2, 0.0, 0.0, 0.0, 0.0, 0.0, 0.0, 0.0, 0.0, 0.0, 0.0, 0.0, 0.0, 0.0],\n",
    "#     [0.0, 0.0, 0.0, 0.0, 0.0, 0.0, 0.5, 0.3, 0.2, 0.0, 0.0, 0.0, 0.0, 0.0, 0.0, 0.0, 0.0, 0.0, 0.0, 0.0, 0.0],\n",
    "#     [0.0, 0.0, 0.0, 0.0, 0.0, 0.0, 0.0, 0.5, 0.3, 0.2, 0.0, 0.0, 0.0, 0.0, 0.0, 0.0, 0.0, 0.0, 0.0, 0.0, 0.0],\n",
    "#     [0.0, 0.0, 0.0, 0.0, 0.0, 0.0, 0.0, 0.0, 0.5, 0.3, 0.2, 0.0, 0.0, 0.0, 0.0, 0.0, 0.0, 0.0, 0.0, 0.0, 0.0],\n",
    "#     [0.0, 0.0, 0.0, 0.0, 0.0, 0.0, 0.0, 0.0, 0.0, 0.5, 0.3, 0.2, 0.0, 0.0, 0.0, 0.0, 0.0, 0.0, 0.0, 0.0, 0.0],\n",
    "#     [0.0, 0.0, 0.0, 0.0, 0.0, 0.0, 0.0, 0.0, 0.0, 0.0, 0.5, 0.3, 0.2, 0.0, 0.0, 0.0, 0.0, 0.0, 0.0, 0.0, 0.0],    \n",
    "#     [0.0, 0.0, 0.0, 0.0, 0.0, 0.0, 0.0, 0.0, 0.0, 0.0, 0.0, 0.5, 0.3, 0.2, 0.0, 0.0, 0.0, 0.0, 0.0, 0.0, 0.0],    \n",
    "#     [0.0, 0.0, 0.0, 0.0, 0.0, 0.0, 0.0, 0.0, 0.0, 0.0, 0.0, 0.0, 0.5, 0.3, 0.2, 0.0, 0.0, 0.0, 0.0, 0.0, 0.0],    \n",
    "#     [0.0, 0.0, 0.0, 0.0, 0.0, 0.0, 0.0, 0.0, 0.0, 0.0, 0.0, 0.0, 0.0, 0.5, 0.3, 0.2, 0.0, 0.0, 0.0, 0.0, 0.0],\n",
    "#     [0.0, 0.0, 0.0, 0.0, 0.0, 0.0, 0.0, 0.0, 0.0, 0.0, 0.0, 0.0, 0.0, 0.0, 0.5, 0.3, 0.2, 0.0, 0.0, 0.0, 0.0],\n",
    "#     [0.0, 0.0, 0.0, 0.0, 0.0, 0.0, 0.0, 0.0, 0.0, 0.0, 0.0, 0.0, 0.0, 0.0, 0.0, 0.5, 0.3, 0.2, 0.0, 0.0, 0.0],\n",
    "#     [0.0, 0.0, 0.0, 0.0, 0.0, 0.0, 0.0, 0.0, 0.0, 0.0, 0.0, 0.0, 0.0, 0.0, 0.0, 0.0, 0.5, 0.3, 0.2, 0.0, 0.0],\n",
    "#     [0.0, 0.0, 0.0, 0.0, 0.0, 0.0, 0.0, 0.0, 0.0, 0.0, 0.0, 0.0, 0.0, 0.0, 0.0, 0.0, 0.0, 0.5, 0.3, 0.2, 0.0],\n",
    "#     [0.0, 0.0, 0.0, 0.0, 0.0, 0.0, 0.0, 0.0, 0.0, 0.0, 0.0, 0.0, 0.0, 0.0, 0.0, 0.0, 0.0, 0.0, 0.5, 0.3, 0.2],\n",
    "#     [0.0, 0.0, 0.0, 0.0, 0.0, 0.0, 0.0, 0.0, 0.0, 0.0, 0.0, 0.0, 0.0, 0.0, 0.0, 0.0, 0.0, 0.0, 0.0, 0.5, 0.5],\n",
    "#     [0.0, 0.0, 0.0, 0.0, 0.0, 0.0, 0.0, 0.0, 0.0, 0.0, 0.0, 0.0, 0.0, 0.0, 0.0, 0.0, 0.0, 0.0, 0.0, 0.0, 1.0],\n",
    "# ])"
   ]
  },
  {
   "cell_type": "code",
   "execution_count": 10,
   "metadata": {},
   "outputs": [
    {
     "name": "stdout",
     "output_type": "stream",
     "text": [
      "['toi', 'dich', 'nguoi', 'benh_nhan', 'theo', 'test_toi', 'test_nguoi', 'test_dich', 'test_theo', 'test_benh_nhan']\n",
      "Testing and Labeling\n",
      "==================================\n",
      "test_toi\n",
      "==================================\n",
      "--------------------------------------------\n",
      "!note: test_folder must contain wavs that it records exactly the word which be trained\n",
      "accuracy:  0.1485148514851485 ,true:  15 ,total_word:  101\n",
      "==================================\n",
      "test_nguoi\n",
      "==================================\n",
      "--------------------------------------------\n",
      "!note: test_folder must contain wavs that it records exactly the word which be trained\n",
      "accuracy:  0.8961038961038961 ,true:  69 ,total_word:  77\n",
      "==================================\n",
      "test_dich\n",
      "==================================\n",
      "--------------------------------------------\n",
      "!note: test_folder must contain wavs that it records exactly the word which be trained\n",
      "accuracy:  0.9714285714285714 ,true:  34 ,total_word:  35\n",
      "==================================\n",
      "test_theo\n",
      "==================================\n",
      "--------------------------------------------\n",
      "!note: test_folder must contain wavs that it records exactly the word which be trained\n",
      "accuracy:  0.8958333333333334 ,true:  43 ,total_word:  48\n",
      "==================================\n",
      "test_benh_nhan\n",
      "==================================\n",
      "--------------------------------------------\n",
      "!note: test_folder must contain wavs that it records exactly the word which be trained\n",
      "accuracy:  0.9900990099009901 ,true:  100 ,total_word:  101\n"
     ]
    }
   ],
   "source": [
    "# for cname in class_names:\n",
    "# class_vectors = dataset[cname]\n",
    "# # convert all vectors to the cluster index\n",
    "# # dataset['cname'] = [O^1, ... O^R]\n",
    "# # O^r = (c1, c2, ... ct, ... cT)\n",
    "# # O^r size T x 1\n",
    "# dataset[cname] = list([kmeans.predict(v).reshape(-1,1) for v in dataset[cname]])\n",
    "\n",
    "\n",
    "# if cname[:4] != 'test':\n",
    "#     X = np.concatenate(dataset[cname])\n",
    "#     lengths = list([len(x) for x in dataset[cname]])\n",
    "#     #       print(\"training class\", cname)\n",
    "#     #       print(X.shape, lengths, len(lengths))\n",
    "#     hmm.fit(X, lengths=lengths)\n",
    "#     models[cname] = hmm\n",
    "#     with open(os.path.join(\"Models\", cname + \".pkl\"), \"wb\") as file: pk.dump(models[cname], file)\n",
    "\n",
    "# #       print(\"Training done\")\n",
    "\n",
    "print(class_names)\n",
    "print(\"Testing and Labeling\")\n",
    "for true_cname in class_names:\n",
    "    if true_cname[:4] == \"test\":\n",
    "        print(\"==================================\")\n",
    "        print(true_cname)\n",
    "        print(\"==================================\")\n",
    "\n",
    "        lname = true_cname[5:]\n",
    "        totalWord = 0\n",
    "        true = 0\n",
    "        accuracy = 0\n",
    "\n",
    "        for O in dataset[true_cname]:\n",
    "            totalWord += 1\n",
    "            scores = {}\n",
    "            for cname, model in models.items():\n",
    "                if cname[:4] != \"test\":\n",
    "                    score = model.score(O, [len(O)])\n",
    "                    scores[cname] = score\n",
    "    #                 print(scores)\n",
    "            srt = sorted(scores.items(), key=lambda x: x[1], reverse=True)\n",
    "        #         print(srt[0])\n",
    "            if srt[0][0] == lname:\n",
    "                true += 1\n",
    "        accuracy = true/totalWord\n",
    "        print(\"--------------------------------------------\")\n",
    "        print(\"!note: test_folder must contain wavs that it records exactly the word which be trained\")\n",
    "        print(\"accuracy: \", accuracy, \",true: \", true, \",total_word: \", totalWord)"
   ]
  },
  {
   "cell_type": "code",
   "execution_count": null,
   "metadata": {},
   "outputs": [],
   "source": []
  }
 ],
 "metadata": {
  "kernelspec": {
   "display_name": "Python 3",
   "language": "python",
   "name": "python3"
  },
  "language_info": {
   "codemirror_mode": {
    "name": "ipython",
    "version": 3
   },
   "file_extension": ".py",
   "mimetype": "text/x-python",
   "name": "python",
   "nbconvert_exporter": "python",
   "pygments_lexer": "ipython3",
   "version": "3.7.6"
  }
 },
 "nbformat": 4,
 "nbformat_minor": 4
}
